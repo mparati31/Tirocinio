{
 "cells": [
  {
   "cell_type": "markdown",
   "metadata": {},
   "source": [
    "# Irraggiamento"
   ]
  },
  {
   "cell_type": "code",
   "execution_count": 1,
   "metadata": {},
   "outputs": [],
   "source": [
    "import ipywidgets\n",
    "import matplotlib.pyplot as plt\n",
    "\n",
    "from calendar import month_name\n",
    "from dataset import irradiation\n",
    "from dataset.data import *\n",
    "\n",
    "%matplotlib inline"
   ]
  },
  {
   "cell_type": "markdown",
   "metadata": {},
   "source": [
    "## Media dell'irraggiamento medio ora per ora di ogni mese"
   ]
  },
  {
   "cell_type": "code",
   "execution_count": 2,
   "metadata": {},
   "outputs": [],
   "source": [
    "irr_all = [irradiation.load_months_avg(IRRADIATIONS[k]) for k in K]"
   ]
  },
  {
   "cell_type": "code",
   "execution_count": 3,
   "metadata": {},
   "outputs": [
    {
     "data": {
      "application/vnd.jupyter.widget-view+json": {
       "model_id": "950d0bfba32f44abacca18c59bbe1ecc",
       "version_major": 2,
       "version_minor": 0
      },
      "text/plain": [
       "interactive(children=(IntSlider(value=0, description='k', max=9), Output()), _dom_classes=('widget-interact',)…"
      ]
     },
     "metadata": {},
     "output_type": "display_data"
    }
   ],
   "source": [
    "def plot_irr(k=0):\n",
    "    irr = irr_all[k]\n",
    "    fig, axes = plt.subplots(nrows=4, ncols=3, figsize=(20, 20))\n",
    "    plt.setp(axes, xticks=range(24), ylim=(0, 1000))\n",
    "\n",
    "    for i, d in enumerate(sorted(irr)):\n",
    "        row = 0 if i < 3 else 1 if i < 6 else 2 if i < 9 else 3\n",
    "        col = i % 3\n",
    "        plt.sca(axes[row][col])\n",
    "        plt.plot(irr[d], marker='o')\n",
    "        plt.xlabel('Hours')\n",
    "        plt.ylabel('Irradiation')\n",
    "        plt.title(month_name[i+1])\n",
    "\n",
    "_ = ipywidgets.interact(plot_irr, k=(0, 9, 1))"
   ]
  },
  {
   "cell_type": "markdown",
   "metadata": {},
   "source": [
    "## Media dell'irraggiamento medio di ogni giorno di ogni mese"
   ]
  },
  {
   "cell_type": "code",
   "execution_count": 4,
   "metadata": {},
   "outputs": [
    {
     "data": {
      "application/vnd.jupyter.widget-view+json": {
       "model_id": "e52309d4928d4a3b95d516f10a861ebc",
       "version_major": 2,
       "version_minor": 0
      },
      "text/plain": [
       "interactive(children=(IntSlider(value=0, description='k', max=9), Output()), _dom_classes=('widget-interact',)…"
      ]
     },
     "metadata": {},
     "output_type": "display_data"
    }
   ],
   "source": [
    "def plot_irr_avg(k=0):\n",
    "    irr = irr_all[k]\n",
    "    avg = [sum(irr[m]) / len(irr[m]) for m in irr]\n",
    "    avg_val = sum(avg) / 12\n",
    "\n",
    "    plt.plot(range(1, 13), avg, marker='o', linestyle='--')\n",
    "    plt.xticks(range(1, 13))\n",
    "    plt.ylim(0, 350)\n",
    "    plt.xlabel('Months')\n",
    "    plt.ylabel('Irradiation')\n",
    "    plt.title('Avg Months')\n",
    "\n",
    "_ = ipywidgets.interact(plot_irr_avg, k=(0, 9, 1))"
   ]
  }
 ],
 "metadata": {
  "interpreter": {
   "hash": "e7370f93d1d0cde622a1f8e1c04877d8463912d04d973331ad4851f04de6915a"
  },
  "kernelspec": {
   "display_name": "Python 3 (ipykernel)",
   "language": "python",
   "name": "python3"
  },
  "language_info": {
   "codemirror_mode": {
    "name": "ipython",
    "version": 3
   },
   "file_extension": ".py",
   "mimetype": "text/x-python",
   "name": "python",
   "nbconvert_exporter": "python",
   "pygments_lexer": "ipython3",
   "version": "3.10.4"
  }
 },
 "nbformat": 4,
 "nbformat_minor": 2
}
